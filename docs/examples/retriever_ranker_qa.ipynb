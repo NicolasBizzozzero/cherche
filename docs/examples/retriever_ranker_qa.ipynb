{
 "cells": [
  {
   "cell_type": "markdown",
   "metadata": {},
   "source": [
    "# Retriever, ranker and question answering"
   ]
  },
  {
   "cell_type": "markdown",
   "metadata": {},
   "source": [
    "The objective of this notebook is to build a simple pipeline to perform the extractive question answering task.We will build a retriever, ranker and question answering architecture to do so. The retriever acts as a first filter in this architecture based on the word matches between the question and the documents. The ranker filters the documents a second time based on the semantic similarity between the documents and the question. Finally we will use a question answering model to extract the answer to the question from the filtered documents. The model of extractive question answering is slow. Filtering the documents helps to reduce the time to answer to a question. It would make sense to use a GPU for this type of pipeline using QA models."
   ]
  },
  {
   "cell_type": "code",
   "execution_count": 1,
   "metadata": {},
   "outputs": [],
   "source": [
    "%load_ext autoreload\n",
    "%autoreload 2"
   ]
  },
  {
   "cell_type": "code",
   "execution_count": 2,
   "metadata": {},
   "outputs": [],
   "source": [
    "from cherche import data, rank, retrieve, qa\n",
    "from sentence_transformers import SentenceTransformer\n",
    "from transformers import pipeline"
   ]
  },
  {
   "cell_type": "markdown",
   "metadata": {},
   "source": [
    "We can use the `towns` corpus for this example, we can ask questions about the cities of Bordeaux, Toulouse, Paris and Lyon."
   ]
  },
  {
   "cell_type": "code",
   "execution_count": 3,
   "metadata": {},
   "outputs": [
    {
     "data": {
      "text/plain": [
       "[{'title': 'Paris',\n",
       "  'url': 'https://en.wikipedia.org/wiki/Paris',\n",
       "  'article': 'Paris (French pronunciation: \\u200b[paʁi] (listen)) is the capital and most populous city of France, with an estimated population of 2,175,601 residents as of 2018, in an area of more than 105 square kilometres (41 square miles).'},\n",
       " {'title': 'Paris',\n",
       "  'url': 'https://en.wikipedia.org/wiki/Paris',\n",
       "  'article': \"Since the 17th century, Paris has been one of Europe's major centres of finance, diplomacy, commerce, fashion, gastronomy, science, and arts.\"},\n",
       " {'title': 'Paris',\n",
       "  'url': 'https://en.wikipedia.org/wiki/Paris',\n",
       "  'article': 'The City of Paris is the centre and seat of government of the region and province of Île-de-France, or Paris Region, which has an estimated population of 12,174,880, or about 18 percent of the population of France as of 2017.'},\n",
       " {'title': 'Paris',\n",
       "  'url': 'https://en.wikipedia.org/wiki/Paris',\n",
       "  'article': 'The Paris Region had a GDP of €709 billion ($808 billion) in 2017.'}]"
      ]
     },
     "execution_count": 3,
     "metadata": {},
     "output_type": "execute_result"
    }
   ],
   "source": [
    "documents = data.load_towns()\n",
    "documents[:4]"
   ]
  },
  {
   "cell_type": "markdown",
   "metadata": {},
   "source": [
    "We start by creating a retriever whose mission will be to quickly filter the documents. This retriever will find documents based on the title and content of the article using `on` parameter."
   ]
  },
  {
   "cell_type": "code",
   "execution_count": 4,
   "metadata": {},
   "outputs": [],
   "source": [
    "retriever = retrieve.TfIdf(on=[\"title\", \"article\"], k = 30)"
   ]
  },
  {
   "cell_type": "markdown",
   "metadata": {},
   "source": [
    "We then add a ranker to the pipeline to filter the results according to the semantic similarity between the query and the retrieved documents. \n",
    "similarity between the query and the retriever's output documents. The ranker will be based on the content of the article."
   ]
  },
  {
   "cell_type": "code",
   "execution_count": 5,
   "metadata": {},
   "outputs": [],
   "source": [
    "ranker = rank.Encoder(\n",
    "    encoder = SentenceTransformer(\"sentence-transformers/all-mpnet-base-v2\").encode,\n",
    "    on = \"article\",\n",
    "    k = 3,\n",
    "    path = \"encoder.pkl\"\n",
    ")"
   ]
  },
  {
   "cell_type": "code",
   "execution_count": 6,
   "metadata": {},
   "outputs": [],
   "source": [
    "question_answering = qa.QA(\n",
    "    model = pipeline(\"question-answering\", model = \"deepset/roberta-base-squad2\", tokenizer = \"deepset/roberta-base-squad2\"),\n",
    "    on = \"article\",\n",
    ")"
   ]
  },
  {
   "cell_type": "markdown",
   "metadata": {},
   "source": [
    "We initialise the pipeline and ask the retrievers to index the documents and the ranker to pre-compute the document embeddings. This step can take some time if you have a lot of documents. A GPU could speed up the process. Embeddings of the ranker will be stored in the file `encoder.pkl`."
   ]
  },
  {
   "cell_type": "code",
   "execution_count": 7,
   "metadata": {},
   "outputs": [
    {
     "data": {
      "text/plain": [
       "TfIdf retriever\n",
       " \t on: title, article\n",
       " \t documents: 105\n",
       "Encoder ranker\n",
       "\t on: article\n",
       "\t k: 3\n",
       "\t similarity: cosine\n",
       "\t embeddings stored at: encoder.pkl\n",
       "Question Answering\n",
       "\t model: deepset/roberta-base-squad2\n",
       "\t on: article"
      ]
     },
     "execution_count": 7,
     "metadata": {},
     "output_type": "execute_result"
    }
   ],
   "source": [
    "search = retriever + ranker + question_answering\n",
    "search.add(documents)"
   ]
  },
  {
   "cell_type": "markdown",
   "metadata": {},
   "source": [
    "Paris Saint Germain is the name of the football team of Paris. The Question Answering Pipeline provides the ranking-related similarity score called `similarity` and the question answering task-related score `qa_score`. The higher the `qa_score` the more likely the answer is. The answers are sorted from the most likely to the least likely."
   ]
  },
  {
   "cell_type": "code",
   "execution_count": 8,
   "metadata": {},
   "outputs": [
    {
     "data": {
      "text/plain": [
       "[{'start': 18,\n",
       "  'end': 37,\n",
       "  'answer': 'Paris Saint-Germain',\n",
       "  'qa_score': 0.9848363399505615,\n",
       "  'title': 'Paris',\n",
       "  'url': 'https://en.wikipedia.org/wiki/Paris',\n",
       "  'article': 'The football club Paris Saint-Germain and the rugby union club Stade Français are based in Paris.',\n",
       "  'similarity': 0.69058955},\n",
       " {'start': 16,\n",
       "  'end': 31,\n",
       "  'answer': 'Stade de France',\n",
       "  'qa_score': 0.8121964335441589,\n",
       "  'title': 'Paris',\n",
       "  'url': 'https://en.wikipedia.org/wiki/Paris',\n",
       "  'article': 'The 80,000-seat Stade de France, built for the 1998 FIFA World Cup, is located just north of Paris in the neighbouring commune of Saint-Denis.',\n",
       "  'similarity': 0.44287413},\n",
       " {'start': 29,\n",
       "  'end': 35,\n",
       "  'answer': '\\u200b[paʁi',\n",
       "  'qa_score': 2.7218469767831266e-05,\n",
       "  'title': 'Paris',\n",
       "  'url': 'https://en.wikipedia.org/wiki/Paris',\n",
       "  'article': 'Paris (French pronunciation: \\u200b[paʁi] (listen)) is the capital and most populous city of France, with an estimated population of 2,175,601 residents as of 2018, in an area of more than 105 square kilometres (41 square miles).',\n",
       "  'similarity': 0.45718548}]"
      ]
     },
     "execution_count": 8,
     "metadata": {},
     "output_type": "execute_result"
    }
   ],
   "source": [
    "search(\"What is the name of the football club of Paris?\")"
   ]
  },
  {
   "cell_type": "markdown",
   "metadata": {},
   "source": [
    "Toulouse in France is known as \"The Pink City\"."
   ]
  },
  {
   "cell_type": "code",
   "execution_count": 9,
   "metadata": {},
   "outputs": [
    {
     "data": {
      "text/plain": [
       "[{'start': 39,\n",
       "  'end': 46,\n",
       "  'answer': 'pinkish',\n",
       "  'qa_score': 0.525703489780426,\n",
       "  'title': 'Toulouse',\n",
       "  'url': 'https://en.wikipedia.org/wiki/Toulouse',\n",
       "  'article': 'The city\\'s unique architecture made of pinkish terracotta bricks has earned Toulouse the nickname La Ville Rose (\"The Pink City\").',\n",
       "  'similarity': 0.5668377},\n",
       " {'start': 11,\n",
       "  'end': 35,\n",
       "  'answer': 'too-LOOZ, French: [tuluz',\n",
       "  'qa_score': 0.024280384182929993,\n",
       "  'title': 'Toulouse',\n",
       "  'url': 'https://en.wikipedia.org/wiki/Toulouse',\n",
       "  'article': 'Toulouse ( too-LOOZ, French: [tuluz] (listen); Occitan: Tolosa [tuˈluzɔ]; Latin: Tolosa [tɔˈloːsa]) is the prefecture of the French department of Haute-Garonne and of the larger region of Occitanie.',\n",
       "  'similarity': 0.60262233},\n",
       " {'start': 165,\n",
       "  'end': 169,\n",
       "  'answer': 'Nice',\n",
       "  'qa_score': 0.0002655540592968464,\n",
       "  'title': 'Toulouse',\n",
       "  'url': 'https://en.wikipedia.org/wiki/Toulouse',\n",
       "  'article': 'It is the fourth-largest commune in France, with 479,553 inhabitants within its municipal boundaries (as of January 2017), after Paris, Marseille and Lyon, ahead of Nice; it has a population of 1,360,829 within its wider metropolitan area (also as of January 2017).',\n",
       "  'similarity': 0.4707413}]"
      ]
     },
     "execution_count": 9,
     "metadata": {},
     "output_type": "execute_result"
    }
   ],
   "source": [
    "search(\"What is the color of Toulouse?\")"
   ]
  },
  {
   "cell_type": "markdown",
   "metadata": {},
   "source": [
    "Bordeaux is known worldwide for its wines"
   ]
  },
  {
   "cell_type": "code",
   "execution_count": 10,
   "metadata": {},
   "outputs": [
    {
     "data": {
      "text/plain": [
       "[{'start': 31,\n",
       "  'end': 35,\n",
       "  'answer': 'wine',\n",
       "  'qa_score': 0.7739053964614868,\n",
       "  'title': 'Bordeaux',\n",
       "  'url': 'https://en.wikipedia.org/wiki/Bordeaux',\n",
       "  'article': \"Bordeaux is a world capital of wine, with its castles and vineyards of the Bordeaux region that stand on the hillsides of the Gironde and is home to the world's main wine fair, Vinexpo.\",\n",
       "  'similarity': 0.65491754},\n",
       " {'start': 85,\n",
       "  'end': 89,\n",
       "  'answer': 'port',\n",
       "  'qa_score': 0.3996890187263489,\n",
       "  'title': 'Bordeaux',\n",
       "  'url': 'https://en.wikipedia.org/wiki/Bordeaux',\n",
       "  'article': 'Bordeaux ( bor-DOH, French: [bɔʁdo] (listen); Gascon Occitan: Bordèu [buɾˈðɛw]) is a port city on the river Garonne in the Gironde department, Southwestern France.',\n",
       "  'similarity': 0.65354306},\n",
       " {'start': 57,\n",
       "  'end': 92,\n",
       "  'answer': 'architectural and cultural heritage',\n",
       "  'qa_score': 0.376557856798172,\n",
       "  'title': 'Bordeaux',\n",
       "  'url': 'https://en.wikipedia.org/wiki/Bordeaux',\n",
       "  'article': 'Bordeaux is an international tourist destination for its architectural and cultural heritage with more than 350 historic monuments, making it, after Paris, the city with the most listed or registered monuments in France.',\n",
       "  'similarity': 0.60971296}]"
      ]
     },
     "execution_count": 10,
     "metadata": {},
     "output_type": "execute_result"
    }
   ],
   "source": [
    "search(\"What is the speciality of Bordeaux ?\")"
   ]
  },
  {
   "cell_type": "markdown",
   "metadata": {},
   "source": [
    "Every year there is a silk festival in Lyon."
   ]
  },
  {
   "cell_type": "code",
   "execution_count": 11,
   "metadata": {},
   "outputs": [
    {
     "data": {
      "text/plain": [
       "[{'start': 41,\n",
       "  'end': 48,\n",
       "  'answer': 'banking',\n",
       "  'qa_score': 0.6367459297180176,\n",
       "  'title': 'Lyon',\n",
       "  'url': 'https://en.wikipedia.org/wiki/Lyon',\n",
       "  'article': 'Economically, Lyon is a major centre for banking, as well as for the chemical, pharmaceutical and biotech industries.',\n",
       "  'similarity': 0.6472855},\n",
       " {'start': 74,\n",
       "  'end': 78,\n",
       "  'answer': 'silk',\n",
       "  'qa_score': 0.3443596661090851,\n",
       "  'title': 'Lyon',\n",
       "  'url': 'https://en.wikipedia.org/wiki/Lyon',\n",
       "  'article': 'Lyon was historically an important area for the production and weaving of silk.',\n",
       "  'similarity': 0.64086735},\n",
       " {'start': 132,\n",
       "  'end': 142,\n",
       "  'answer': 'urban area',\n",
       "  'qa_score': 0.0976468175649643,\n",
       "  'title': 'Lyon',\n",
       "  'url': 'https://en.wikipedia.org/wiki/Lyon',\n",
       "  'article': 'Lyon or Lyons (UK: , US: , French: [ljɔ̃] (listen); Arpitan: Liyon, pronounced [ʎjɔ̃]) is the third-largest city and second-largest urban area of France.',\n",
       "  'similarity': 0.66174024}]"
      ]
     },
     "execution_count": 11,
     "metadata": {},
     "output_type": "execute_result"
    }
   ],
   "source": [
    "search(\"What is the speciality of Lyon ?\")"
   ]
  }
 ],
 "metadata": {
  "interpreter": {
   "hash": "7b170744ab9cf7446ed3e27cb2734f2273f9ffda6b52a7d603d13471f7231bb1"
  },
  "kernelspec": {
   "display_name": "Python 3.8.5 64-bit ('cherche': conda)",
   "language": "python",
   "name": "python3"
  },
  "language_info": {
   "codemirror_mode": {
    "name": "ipython",
    "version": 3
   },
   "file_extension": ".py",
   "mimetype": "text/x-python",
   "name": "python",
   "nbconvert_exporter": "python",
   "pygments_lexer": "ipython3",
   "version": "3.8.5"
  },
  "orig_nbformat": 4
 },
 "nbformat": 4,
 "nbformat_minor": 2
}
