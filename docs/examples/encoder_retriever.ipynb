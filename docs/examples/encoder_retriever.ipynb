{
 "cells": [
  {
   "cell_type": "markdown",
   "metadata": {},
   "source": [
    "# Encoder as a retriever"
   ]
  },
  {
   "cell_type": "markdown",
   "metadata": {},
   "source": [
    "Usually we use semantic similarity-based models to filter BM25 models, but sometimes the user's query does not match any document, especially for small corpora. This is where neural search becomes very interesting. The encoder can play the role of a spare wheel to retrieve documents when the traditional BM25 has not found anything."
   ]
  },
  {
   "cell_type": "code",
   "execution_count": 1,
   "metadata": {},
   "outputs": [],
   "source": [
    "from cherche import retrieve, rank, data\n",
    "from sentence_transformers import SentenceTransformer"
   ]
  },
  {
   "cell_type": "markdown",
   "metadata": {},
   "source": [
    "Let's load a dummy dataset"
   ]
  },
  {
   "cell_type": "code",
   "execution_count": 2,
   "metadata": {},
   "outputs": [
    {
     "data": {
      "text/plain": [
       "{'title': 'Paris',\n",
       " 'url': 'https://en.wikipedia.org/wiki/Paris',\n",
       " 'article': 'Paris (French pronunciation: \\u200b[paʁi] (listen)) is the capital and most populous city of France, with an estimated population of 2,175,601 residents as of 2018, in an area of more than 105 square kilometres (41 square miles).'}"
      ]
     },
     "execution_count": 2,
     "metadata": {},
     "output_type": "execute_result"
    }
   ],
   "source": [
    "documents = data.load_towns()\n",
    "documents[0]"
   ]
  },
  {
   "cell_type": "markdown",
   "metadata": {},
   "source": [
    "First, we will perform a search with a TfIdf to show that the model's ability to retrieve documents may be limited."
   ]
  },
  {
   "cell_type": "code",
   "execution_count": 3,
   "metadata": {},
   "outputs": [
    {
     "data": {
      "text/plain": [
       "TfIdf retriever\n",
       " \t on: article, title\n",
       " \t documents: 105"
      ]
     },
     "execution_count": 3,
     "metadata": {},
     "output_type": "execute_result"
    }
   ],
   "source": [
    "retriever  = retrieve.TfIdf(on=[\"article\", \"title\"], k=10)\n",
    "retriever.add(documents = documents)"
   ]
  },
  {
   "cell_type": "markdown",
   "metadata": {},
   "source": [
    "There is a single document that match the query \"food\" using default TfIdf."
   ]
  },
  {
   "cell_type": "code",
   "execution_count": 4,
   "metadata": {},
   "outputs": [
    {
     "data": {
      "text/plain": [
       "[{'title': 'Montreal',\n",
       "  'url': 'https://en.wikipedia.org/wiki/Montreal',\n",
       "  'article': 'It remains an important centre of commerce, aerospace, transport, finance, pharmaceuticals, technology, design, education, art, culture, tourism, food, fashion, video game development, film, and world affairs.'}]"
      ]
     },
     "execution_count": 4,
     "metadata": {},
     "output_type": "execute_result"
    }
   ],
   "source": [
    "retriever(\"food\")"
   ]
  },
  {
   "cell_type": "markdown",
   "metadata": {},
   "source": [
    "We can now compare these results with the results of Sentence Bert by initialising our retriever based on semantic similarity."
   ]
  },
  {
   "cell_type": "code",
   "execution_count": 5,
   "metadata": {},
   "outputs": [
    {
     "data": {
      "text/plain": [
       "Encoder retriever\n",
       " \t on: title, article\n",
       " \t documents: 105"
      ]
     },
     "execution_count": 5,
     "metadata": {},
     "output_type": "execute_result"
    }
   ],
   "source": [
    "retriever = retrieve.Encoder(\n",
    "    encoder = SentenceTransformer(\"sentence-transformers/all-mpnet-base-v2\").encode,\n",
    "    on = [\"title\", \"article\"],\n",
    "    k = 5,\n",
    "    path = \"encoder.pkl\"\n",
    ")\n",
    "\n",
    "retriever.add(documents=documents)"
   ]
  },
  {
   "cell_type": "markdown",
   "metadata": {},
   "source": [
    "As can be seen, the encoder recalls more documents, even if they do not systematically contain the word \"food\". These documents seem relevant."
   ]
  },
  {
   "cell_type": "code",
   "execution_count": 6,
   "metadata": {},
   "outputs": [
    {
     "data": {
      "text/plain": [
       "[{'title': 'Lyon',\n",
       "  'url': 'https://en.wikipedia.org/wiki/Lyon',\n",
       "  'article': \"The city is recognised for its cuisine and gastronomy, as well as historical and architectural landmarks; as such, the districts of Old Lyon, the Fourvière hill, the Presqu'île and the slopes of the Croix-Rousse are inscribed on the UNESCO World Heritage List.\",\n",
       "  'similarity': 0.6018157045009224},\n",
       " {'title': 'Bordeaux',\n",
       "  'url': 'https://en.wikipedia.org/wiki/Bordeaux',\n",
       "  'article': 'Bordeaux is also one of the centers of gastronomy and business tourism for the organization of international congresses.',\n",
       "  'similarity': 0.5962209382904881},\n",
       " {'title': 'Montreal',\n",
       "  'url': 'https://en.wikipedia.org/wiki/Montreal',\n",
       "  'article': 'It remains an important centre of commerce, aerospace, transport, finance, pharmaceuticals, technology, design, education, art, culture, tourism, food, fashion, video game development, film, and world affairs.',\n",
       "  'similarity': 0.5876269088959901},\n",
       " {'title': 'Paris',\n",
       "  'url': 'https://en.wikipedia.org/wiki/Paris',\n",
       "  'article': 'Paris received 12.',\n",
       "  'similarity': 0.5827903937982479},\n",
       " {'title': 'Lyon',\n",
       "  'url': 'https://en.wikipedia.org/wiki/Lyon',\n",
       "  'article': 'Lyon was historically an important area for the production and weaving of silk.',\n",
       "  'similarity': 0.561210231590153}]"
      ]
     },
     "execution_count": 6,
     "metadata": {},
     "output_type": "execute_result"
    }
   ],
   "source": [
    "retriever(\"food\")"
   ]
  },
  {
   "cell_type": "markdown",
   "metadata": {},
   "source": [
    "We can create a neural search pipeline that has the precision of a TfIdf retriever with an encoder as a ranker and the recall of an encoder as a retriver. We can use the union operator `|` to achieve this. The pipeline we will create is composed of a TfIdf whose documents will be reranked by a Sentence Bert model. In a second step, the union operator will concatenate the returns of the encoder as a retriever while avoiding duplicates."
   ]
  },
  {
   "cell_type": "code",
   "execution_count": 7,
   "metadata": {},
   "outputs": [
    {
     "data": {
      "text/plain": [
       "Union Pipeline\n",
       "-----\n",
       "TfIdf retriever\n",
       " \t on: article, title\n",
       " \t documents: 105\n",
       "Encoder ranker\n",
       "\t on: title, article\n",
       "\t k: 5\n",
       "\t similarity: cosine\n",
       "\t embeddings stored at: encoder.pkl\n",
       "Encoder retriever\n",
       " \t on: title, article\n",
       " \t documents: 105\n",
       "-----"
      ]
     },
     "execution_count": 7,
     "metadata": {},
     "output_type": "execute_result"
    }
   ],
   "source": [
    "encoder = SentenceTransformer(\"sentence-transformers/all-mpnet-base-v2\").encode\n",
    "\n",
    "precision = (\n",
    "    retrieve.TfIdf(on=[\"article\", \"title\"], k = 30) + \n",
    "    rank.Encoder(encoder = encoder, on = [\"title\", \"article\"], k = 5, path = \"encoder.pkl\")\n",
    ")\n",
    "\n",
    "recall = retrieve.Encoder(encoder = encoder, on = [\"title\", \"article\"], k = 5, path = \"encoder.pkl\")\n",
    "\n",
    "search = precision | recall\n",
    "\n",
    "search.add(documents=documents)"
   ]
  },
  {
   "cell_type": "markdown",
   "metadata": {},
   "source": [
    "Our pipeline will first propose documents from the `precision` pipeline and then documents proposed by the `recall` pipeline. This neural search pipeline can allow us to propose documents even if the query words are not referenced in the documents."
   ]
  },
  {
   "cell_type": "code",
   "execution_count": 8,
   "metadata": {},
   "outputs": [
    {
     "data": {
      "text/plain": [
       "[{'title': 'Montreal',\n",
       "  'url': 'https://en.wikipedia.org/wiki/Montreal',\n",
       "  'article': 'It remains an important centre of commerce, aerospace, transport, finance, pharmaceuticals, technology, design, education, art, culture, tourism, food, fashion, video game development, film, and world affairs.'},\n",
       " {'title': 'Lyon',\n",
       "  'url': 'https://en.wikipedia.org/wiki/Lyon',\n",
       "  'article': \"The city is recognised for its cuisine and gastronomy, as well as historical and architectural landmarks; as such, the districts of Old Lyon, the Fourvière hill, the Presqu'île and the slopes of the Croix-Rousse are inscribed on the UNESCO World Heritage List.\"},\n",
       " {'title': 'Bordeaux',\n",
       "  'url': 'https://en.wikipedia.org/wiki/Bordeaux',\n",
       "  'article': 'Bordeaux is also one of the centers of gastronomy and business tourism for the organization of international congresses.'},\n",
       " {'title': 'Paris',\n",
       "  'url': 'https://en.wikipedia.org/wiki/Paris',\n",
       "  'article': 'Paris received 12.'},\n",
       " {'title': 'Lyon',\n",
       "  'url': 'https://en.wikipedia.org/wiki/Lyon',\n",
       "  'article': 'Lyon was historically an important area for the production and weaving of silk.'}]"
      ]
     },
     "execution_count": 8,
     "metadata": {},
     "output_type": "execute_result"
    }
   ],
   "source": [
    "search(\"food\")"
   ]
  }
 ],
 "metadata": {
  "interpreter": {
   "hash": "7b170744ab9cf7446ed3e27cb2734f2273f9ffda6b52a7d603d13471f7231bb1"
  },
  "kernelspec": {
   "display_name": "Python 3.8.5 64-bit ('cherche': conda)",
   "language": "python",
   "name": "python3"
  },
  "language_info": {
   "codemirror_mode": {
    "name": "ipython",
    "version": 3
   },
   "file_extension": ".py",
   "mimetype": "text/x-python",
   "name": "python",
   "nbconvert_exporter": "python",
   "pygments_lexer": "ipython3",
   "version": "3.8.5"
  },
  "orig_nbformat": 4
 },
 "nbformat": 4,
 "nbformat_minor": 2
}
