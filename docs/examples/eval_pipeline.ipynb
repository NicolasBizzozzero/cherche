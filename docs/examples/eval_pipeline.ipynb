{
 "cells": [
  {
   "cell_type": "markdown",
   "metadata": {},
   "source": [
    "# Semanlink automatic tagging and evaluation"
   ]
  },
  {
   "cell_type": "markdown",
   "metadata": {},
   "source": [
    "This notebook present how to evaluate a neural search pipeline using pairs of query and answers. We will try to automatically tag arXiv papers that were manually automated by François-Paul Servant as part of the [Semanlink](http://www.semanlink.net/sl/home?lang=fr) Knowledge Graph."
   ]
  },
  {
   "cell_type": "code",
   "execution_count": 1,
   "metadata": {},
   "outputs": [],
   "source": [
    "%load_ext autoreload\n",
    "%autoreload 2"
   ]
  },
  {
   "cell_type": "code",
   "execution_count": 2,
   "metadata": {},
   "outputs": [],
   "source": [
    "from pprint import pprint as print\n",
    "from cherche import data, rank, retrieve, eval\n",
    "from sentence_transformers import SentenceTransformer\n",
    "from sklearn.feature_extraction.text import TfidfVectorizer"
   ]
  },
  {
   "cell_type": "code",
   "execution_count": 3,
   "metadata": {},
   "outputs": [],
   "source": [
    "documents, query_answers = data.arxiv_tags(arxiv_title=True, arxiv_summary=False, comment=False)"
   ]
  },
  {
   "cell_type": "markdown",
   "metadata": {},
   "source": [
    "The `documents` contain a list of tags. Each tag is represented as a dict and contains a set of attributes. We will try to automate the tagging of arXiv documents with a neural search pipeline that will retrieve tags based on their attributes using the title, abstract and comments of the arXiv articles as a query."
   ]
  },
  {
   "cell_type": "markdown",
   "metadata": {},
   "source": [
    "This is what a pair of responses to a query looks like. For each query, there is a list of relevant document identifiers."
   ]
  },
  {
   "cell_type": "code",
   "execution_count": 4,
   "metadata": {},
   "outputs": [
    {
     "name": "stdout",
     "output_type": "stream",
     "text": [
      "[(' Joint Embedding of Words and Labels for Text Classification',\n",
      "  [{'uri': 'http://www.semanlink.net/tag/deep_learning_attention'},\n",
      "   {'uri': 'http://www.semanlink.net/tag/arxiv_doc'},\n",
      "   {'uri': 'http://www.semanlink.net/tag/nlp_text_classification'},\n",
      "   {'uri': 'http://www.semanlink.net/tag/label_embedding'}]),\n",
      " (' A Survey on Recent Approaches for Natural Language Processing in '\n",
      "  'Low-Resource Scenarios',\n",
      "  [{'uri': 'http://www.semanlink.net/tag/bosch'},\n",
      "   {'uri': 'http://www.semanlink.net/tag/survey'},\n",
      "   {'uri': 'http://www.semanlink.net/tag/arxiv_doc'},\n",
      "   {'uri': 'http://www.semanlink.net/tag/nlp_low_resource_scenarios'},\n",
      "   {'uri': 'http://www.semanlink.net/tag/low_resource_languages'}])]\n"
     ]
    }
   ],
   "source": [
    "print(query_answers[:2])"
   ]
  },
  {
   "cell_type": "markdown",
   "metadata": {},
   "source": [
    "Here is the list of attributes each tag has:"
   ]
  },
  {
   "cell_type": "code",
   "execution_count": 5,
   "metadata": {},
   "outputs": [
    {
     "data": {
      "text/plain": [
       "{'prefLabel': ['Attention mechanism'],\n",
       " 'type': ['http://www.semanlink.net/2001/00/semanlink-schema#Tag'],\n",
       " 'broader': ['http://www.semanlink.net/tag/deep_learning'],\n",
       " 'creationTime': '2016-01-07T00:58:24Z',\n",
       " 'creationDate': '2016-01-07',\n",
       " 'comment': 'Good explanation is this [blog post by D. Britz](/doc/?uri=http%3A%2F%2Fwww.wildml.com%2F2016%2F01%2Fattention-and-memory-in-deep-learning-and-nlp%2F). (But the best explanation related to attention is to be found in this [post](/doc/2019/08/transformers_from_scratch_%7C_pet) about Self-Attention.) \\r\\n\\r\\nWhile simple Seq2Seq builds a single context vector out of the encoder’s last hidden state, attention creates\\r\\nshortcuts between the context vector and the entire source input: the context vector has access to the entire input sequence.\\r\\nThe decoder can “attend” to different parts of the source sentence at each step of the output generation, and the model learns what to attend to based on the input sentence and what it has produced so far.\\r\\n\\r\\nPossible to interpret what the model is doing by looking at the Attention weight matrix\\r\\n\\r\\nCost: We need to calculate an attention value for each combination of input and output word (D. Britz: -> \"attention is a bit of a misnomer: we look at everything in details before deciding what to focus on\")\\r\\n\\r\\n\\r\\n\\r\\n\\r\\n\\r\\n\\r\\n\\r\\n\\r\\n\\r\\n',\n",
       " 'uri': 'http://www.semanlink.net/tag/deep_learning_attention',\n",
       " 'broader_prefLabel': ['Deep Learning'],\n",
       " 'broader_related': ['http://www.semanlink.net/tag/feature_learning',\n",
       "  'http://www.semanlink.net/tag/feature_extraction'],\n",
       " 'broader_prefLabel_text': 'Deep Learning',\n",
       " 'prefLabel_text': 'Attention mechanism'}"
      ]
     },
     "execution_count": 5,
     "metadata": {},
     "output_type": "execute_result"
    }
   ],
   "source": [
    "documents[0]"
   ]
  },
  {
   "cell_type": "markdown",
   "metadata": {},
   "source": [
    "Let's evaluate a first piepline made of a single retriever"
   ]
  },
  {
   "cell_type": "code",
   "execution_count": 25,
   "metadata": {},
   "outputs": [
    {
     "name": "stdout",
     "output_type": "stream",
     "text": [
      "'14.47%'\n",
      "'18.91%'\n",
      "'21.79%'\n",
      "'10.75%'\n",
      "'15.10%'\n",
      "'12.79%'\n",
      "'21.65%'\n",
      "'10.75%'\n",
      "'16.34%'\n",
      "'14.47%'\n",
      "'12.57%'\n",
      "'13.49%'\n"
     ]
    }
   ],
   "source": [
    "from rapidfuzz import fuzz\n",
    "from rapidfuzz import string_metric\n",
    "\n",
    "fuzzers = [fuzz.ratio,\n",
    "        fuzz.partial_ratio, fuzz.token_set_ratio, fuzz.partial_token_set_ratio,\n",
    "        fuzz.token_sort_ratio, fuzz.partial_token_sort_ratio, fuzz.token_ratio,\n",
    "        fuzz.partial_token_ratio, fuzz.WRatio, fuzz.QRatio, string_metric.levenshtein, string_metric.normalized_levenshtein]\n",
    "\n",
    "for fuzzer in fuzzers:\n",
    "    retriever = retrieve.Fuzz(key=\"uri\", on = [\"prefLabel_text\",  \"altLabel_text\"], k=10, fuzzer=fuzzer)\n",
    "    retriever.add(documents)\n",
    "    print(eval.eval(search = retriever, query_answers=query_answers, hits_k=range(6))[\"R-Precision\"])"
   ]
  },
  {
   "cell_type": "code",
   "execution_count": 8,
   "metadata": {},
   "outputs": [
    {
     "data": {
      "text/plain": [
       "[]"
      ]
     },
     "execution_count": 8,
     "metadata": {},
     "output_type": "execute_result"
    }
   ],
   "source": [
    "retriever(\"bert\")"
   ]
  },
  {
   "cell_type": "code",
   "execution_count": 6,
   "metadata": {},
   "outputs": [],
   "source": [
    "retriever = retrieve.TfIdf(\n",
    "    key = \"uri\",\n",
    "    on = [\"prefLabel_text\", \"altLabel_text\"], \n",
    "    documents = documents,\n",
    "    tfidf = TfidfVectorizer(lowercase=True, min_df=1, max_df=0.9, ngram_range=(3, 7), analyzer=\"char\"), \n",
    "    k = 10,\n",
    ")"
   ]
  },
  {
   "cell_type": "code",
   "execution_count": 7,
   "metadata": {},
   "outputs": [
    {
     "data": {
      "text/plain": [
       "{'Precision@1': '63.06%',\n",
       " 'Precision@2': '43.47%',\n",
       " 'Precision@3': '33.12%',\n",
       " 'Precision@4': '26.67%',\n",
       " 'Precision@5': '22.55%',\n",
       " 'Recall@1': '16.79%',\n",
       " 'Recall@2': '22.22%',\n",
       " 'Recall@3': '25.25%',\n",
       " 'Recall@4': '27.03%',\n",
       " 'Recall@5': '28.54%',\n",
       " 'F1@1': '26.52%',\n",
       " 'F1@2': '29.41%',\n",
       " 'F1@3': '28.65%',\n",
       " 'F1@4': '26.85%',\n",
       " 'F1@5': '25.19%',\n",
       " 'R-Precision': '26.95%',\n",
       " 'Precision': '13.47%'}"
      ]
     },
     "execution_count": 7,
     "metadata": {},
     "output_type": "execute_result"
    }
   ],
   "source": [
    "eval.eval(search = retriever, query_answers=query_answers, hits_k=range(6))"
   ]
  },
  {
   "cell_type": "code",
   "execution_count": 8,
   "metadata": {},
   "outputs": [
    {
     "data": {
      "text/plain": [
       "[{'uri': 'http://www.semanlink.net/tag/information_retrieval',\n",
       "  'similarity': 0.2718},\n",
       " {'uri': 'http://www.semanlink.net/tag/retrieval_augmented_lm',\n",
       "  'similarity': 0.21722},\n",
       " {'uri': 'http://www.semanlink.net/tag/dense_passage_retrieval',\n",
       "  'similarity': 0.21111},\n",
       " {'uri': 'http://www.semanlink.net/tag/neural_models_for_information_retrieval',\n",
       "  'similarity': 0.19562},\n",
       " {'uri': 'http://www.semanlink.net/tag/retrieval_based_nlp',\n",
       "  'similarity': 0.18271},\n",
       " {'uri': 'http://www.semanlink.net/tag/ranking_information_retrieval',\n",
       "  'similarity': 0.18235},\n",
       " {'uri': 'http://www.semanlink.net/tag/active_learning',\n",
       "  'similarity': 0.15662},\n",
       " {'uri': 'http://www.semanlink.net/tag/embeddings_in_ir',\n",
       "  'similarity': 0.1552},\n",
       " {'uri': 'http://www.semanlink.net/tag/entity_discovery_and_linking',\n",
       "  'similarity': 0.1393},\n",
       " {'uri': 'http://www.semanlink.net/tag/information_extraction',\n",
       "  'similarity': 0.13636}]"
      ]
     },
     "execution_count": 8,
     "metadata": {},
     "output_type": "execute_result"
    }
   ],
   "source": [
    "retriever(\"ColBERTv2: Effective and Efficient Retrieval via Lightweight Late Interaction\")"
   ]
  },
  {
   "cell_type": "markdown",
   "metadata": {},
   "source": [
    "The results of Lunr are inferior to TfIdf on this dataset."
   ]
  },
  {
   "cell_type": "code",
   "execution_count": 9,
   "metadata": {},
   "outputs": [
    {
     "data": {
      "text/plain": [
       "{'Precision@1': '56.55%',\n",
       " 'Precision@2': '42.10%',\n",
       " 'Precision@3': '34.17%',\n",
       " 'Precision@4': '27.80%',\n",
       " 'Precision@5': '23.33%',\n",
       " 'Recall@1': '14.90%',\n",
       " 'Recall@2': '21.52%',\n",
       " 'Recall@3': '25.86%',\n",
       " 'Recall@4': '27.74%',\n",
       " 'Recall@5': '28.59%',\n",
       " 'F1@1': '23.59%',\n",
       " 'F1@2': '28.48%',\n",
       " 'F1@3': '29.44%',\n",
       " 'F1@4': '27.77%',\n",
       " 'F1@5': '25.69%',\n",
       " 'R-Precision': '27.59%',\n",
       " 'Precision': '14.00%'}"
      ]
     },
     "execution_count": 9,
     "metadata": {},
     "output_type": "execute_result"
    }
   ],
   "source": [
    "retriever = retrieve.Lunr(\n",
    "    key = \"uri\",\n",
    "    on = [\"prefLabel_text\", \"altLabel_text\"], \n",
    "    documents = documents,\n",
    "    k = 10,\n",
    ")\n",
    "\n",
    "eval.eval(search = retriever, query_answers=query_answers, hits_k=range(6))"
   ]
  },
  {
   "cell_type": "markdown",
   "metadata": {},
   "source": [
    "You can find an explanation of the metrics [here](https://amitness.com/2020/08/information-retrieval-evaluation/). The TfIdf retriever using caracters ngrams did well."
   ]
  },
  {
   "cell_type": "markdown",
   "metadata": {},
   "source": [
    "Here is what tagging looks like using our retriever"
   ]
  },
  {
   "cell_type": "code",
   "execution_count": 10,
   "metadata": {},
   "outputs": [
    {
     "data": {
      "text/plain": [
       "[{'uri': 'http://www.semanlink.net/tag/information_retrieval',\n",
       "  'similarity': 4.147},\n",
       " {'uri': 'http://www.semanlink.net/tag/dense_passage_retrieval',\n",
       "  'similarity': 3.489},\n",
       " {'uri': 'http://www.semanlink.net/tag/ranking_information_retrieval',\n",
       "  'similarity': 3.489},\n",
       " {'uri': 'http://www.semanlink.net/tag/embeddings_in_ir', 'similarity': 3.489},\n",
       " {'uri': 'http://www.semanlink.net/tag/retrieval_augmented_lm',\n",
       "  'similarity': 3.489},\n",
       " {'uri': 'http://www.semanlink.net/tag/retrieval_based_nlp',\n",
       "  'similarity': 3.489},\n",
       " {'uri': 'http://www.semanlink.net/tag/entity_discovery_and_linking',\n",
       "  'similarity': 1.579},\n",
       " {'uri': 'http://www.semanlink.net/tag/neural_models_for_information_retrieval',\n",
       "  'similarity': 1.479}]"
      ]
     },
     "execution_count": 10,
     "metadata": {},
     "output_type": "execute_result"
    }
   ],
   "source": [
    "retriever(\"ColBERTv2: Effective and Efficient Retrieval via Lightweight Late Interaction\")"
   ]
  },
  {
   "cell_type": "markdown",
   "metadata": {},
   "source": [
    "Let's try to improve those results using a ranker."
   ]
  },
  {
   "cell_type": "code",
   "execution_count": 11,
   "metadata": {},
   "outputs": [],
   "source": [
    "retriever = retrieve.TfIdf(\n",
    "    key = \"uri\",\n",
    "    on = [\"prefLabel_text\", \"altLabel_text\"], \n",
    "    documents = documents,\n",
    "    tfidf = TfidfVectorizer(lowercase=True, min_df=1, max_df=0.9, ngram_range=(3, 7), analyzer=\"char\"), \n",
    "    k = 30,\n",
    ")\n",
    "\n",
    "ranker = rank.Encoder(\n",
    "    key = \"uri\",\n",
    "    on = [\"prefLabel_text\", \"altLabel_text\"],\n",
    "    encoder = SentenceTransformer(\"sentence-transformers/all-mpnet-base-v2\").encode,\n",
    "    k = 10,\n",
    "    path = \"semanlink.pkl\"\n",
    ")"
   ]
  },
  {
   "cell_type": "markdown",
   "metadata": {},
   "source": [
    "The cell below is important if you want to pre-compute the queries once. 314 queries are pre-calculated to speed up evaluation. It takes roughly CPU 24 seconds."
   ]
  },
  {
   "cell_type": "code",
   "execution_count": 12,
   "metadata": {},
   "outputs": [
    {
     "data": {
      "text/plain": [
       "Encoder ranker\n",
       "\t key: uri\n",
       "\t on: prefLabel_text, altLabel_text\n",
       "\t k: 10\n",
       "\t similarity: cosine\n",
       "\t embeddings stored at: semanlink.pkl"
      ]
     },
     "execution_count": 12,
     "metadata": {},
     "output_type": "execute_result"
    }
   ],
   "source": [
    "ranker.add([q for q, _ in query_answers])"
   ]
  },
  {
   "cell_type": "code",
   "execution_count": 13,
   "metadata": {},
   "outputs": [
    {
     "data": {
      "text/plain": [
       "TfIdf retriever\n",
       " \t key: uri\n",
       " \t on: prefLabel_text, altLabel_text\n",
       " \t documents: 433\n",
       "Encoder ranker\n",
       "\t key: uri\n",
       "\t on: prefLabel_text, altLabel_text\n",
       "\t k: 10\n",
       "\t similarity: cosine\n",
       "\t embeddings stored at: semanlink.pkl"
      ]
     },
     "execution_count": 13,
     "metadata": {},
     "output_type": "execute_result"
    }
   ],
   "source": [
    "search = retriever + ranker\n",
    "search.add(documents)"
   ]
  },
  {
   "cell_type": "code",
   "execution_count": 14,
   "metadata": {},
   "outputs": [
    {
     "data": {
      "text/plain": [
       "{'Precision@1': '63.69%',\n",
       " 'Precision@2': '42.83%',\n",
       " 'Precision@3': '33.01%',\n",
       " 'Precision@4': '26.75%',\n",
       " 'Precision@5': '22.55%',\n",
       " 'Recall@1': '17.15%',\n",
       " 'Recall@2': '22.64%',\n",
       " 'Recall@3': '25.75%',\n",
       " 'Recall@4': '27.34%',\n",
       " 'Recall@5': '28.55%',\n",
       " 'F1@1': '27.02%',\n",
       " 'F1@2': '29.63%',\n",
       " 'F1@3': '28.93%',\n",
       " 'F1@4': '27.04%',\n",
       " 'F1@5': '25.20%',\n",
       " 'R-Precision': '27.43%',\n",
       " 'Precision': '13.18%'}"
      ]
     },
     "execution_count": 14,
     "metadata": {},
     "output_type": "execute_result"
    }
   ],
   "source": [
    "eval.eval(search = search, query_answers = query_answers, hits_k=range(6))"
   ]
  },
  {
   "cell_type": "markdown",
   "metadata": {},
   "source": [
    "The Bert Sentence classifier improved the results of the extractor a little. We managed to increase the F1@k score, precision and recall."
   ]
  },
  {
   "cell_type": "markdown",
   "metadata": {},
   "source": [
    "Here are proposed tags for Bert using retriever ranker:"
   ]
  },
  {
   "cell_type": "code",
   "execution_count": 15,
   "metadata": {},
   "outputs": [
    {
     "data": {
      "text/plain": [
       "[{'uri': 'http://www.semanlink.net/tag/retrieval_augmented_lm',\n",
       "  'similarity': 0.5449115},\n",
       " {'uri': 'http://www.semanlink.net/tag/neural_models_for_information_retrieval',\n",
       "  'similarity': 0.42808777},\n",
       " {'uri': 'http://www.semanlink.net/tag/embeddings_in_ir',\n",
       "  'similarity': 0.42719522},\n",
       " {'uri': 'http://www.semanlink.net/tag/dense_passage_retrieval',\n",
       "  'similarity': 0.42641854},\n",
       " {'uri': 'http://www.semanlink.net/tag/information_retrieval',\n",
       "  'similarity': 0.40513232},\n",
       " {'uri': 'http://www.semanlink.net/tag/entity_discovery_and_linking',\n",
       "  'similarity': 0.352889},\n",
       " {'uri': 'http://www.semanlink.net/tag/ranking_information_retrieval',\n",
       "  'similarity': 0.346283},\n",
       " {'uri': 'http://www.semanlink.net/tag/retrieval_based_nlp',\n",
       "  'similarity': 0.32937074},\n",
       " {'uri': 'http://www.semanlink.net/tag/active_learning',\n",
       "  'similarity': 0.28093448},\n",
       " {'uri': 'http://www.semanlink.net/tag/cognitive_search',\n",
       "  'similarity': 0.25938064}]"
      ]
     },
     "execution_count": 15,
     "metadata": {},
     "output_type": "execute_result"
    }
   ],
   "source": [
    "search(\"ColBERTv2: Effective and Efficient Retrieval via Lightweight Late Interaction\")"
   ]
  },
  {
   "cell_type": "markdown",
   "metadata": {},
   "source": [
    "Let's try to use using Flash as a retriever. Flash Text will retrieve tags labels inside the title. "
   ]
  },
  {
   "cell_type": "code",
   "execution_count": 16,
   "metadata": {},
   "outputs": [
    {
     "data": {
      "text/plain": [
       "Flash retriever\n",
       " \t key: uri\n",
       " \t on: prefLabel, altLabel\n",
       " \t documents: 605\n",
       "Encoder ranker\n",
       "\t key: uri\n",
       "\t on: prefLabel_text, altLabel_text\n",
       "\t k: 10\n",
       "\t similarity: cosine\n",
       "\t embeddings stored at: semanlink.pkl"
      ]
     },
     "execution_count": 16,
     "metadata": {},
     "output_type": "execute_result"
    }
   ],
   "source": [
    "retriever = retrieve.Flash(\n",
    "    key = \"uri\",\n",
    "    on = [\"prefLabel\", \"altLabel\"], \n",
    "    k = 30,\n",
    ")\n",
    "\n",
    "search = retriever + ranker\n",
    "search.add(documents)"
   ]
  },
  {
   "cell_type": "markdown",
   "metadata": {},
   "source": [
    "FlashText as a retriever provides fewer candidates than TfIdf but has higher precision."
   ]
  },
  {
   "cell_type": "code",
   "execution_count": 17,
   "metadata": {},
   "outputs": [
    {
     "data": {
      "text/plain": [
       "{'Precision@1': '72.80%',\n",
       " 'Precision@2': '61.90%',\n",
       " 'Precision@3': '59.90%',\n",
       " 'Precision@4': '59.27%',\n",
       " 'Precision@5': '59.37%',\n",
       " 'Recall@1': '16.33%',\n",
       " 'Recall@2': '19.54%',\n",
       " 'Recall@3': '20.11%',\n",
       " 'Recall@4': '20.16%',\n",
       " 'Recall@5': '20.20%',\n",
       " 'F1@1': '26.67%',\n",
       " 'F1@2': '29.71%',\n",
       " 'F1@3': '30.11%',\n",
       " 'F1@4': '30.08%',\n",
       " 'F1@5': '30.15%',\n",
       " 'R-Precision': '20.20%',\n",
       " 'Precision': '59.37%'}"
      ]
     },
     "execution_count": 17,
     "metadata": {},
     "output_type": "execute_result"
    }
   ],
   "source": [
    "eval.eval(search = search, query_answers = query_answers, hits_k=range(6))"
   ]
  },
  {
   "cell_type": "code",
   "execution_count": 18,
   "metadata": {},
   "outputs": [
    {
     "data": {
      "text/plain": [
       "[]"
      ]
     },
     "execution_count": 18,
     "metadata": {},
     "output_type": "execute_result"
    }
   ],
   "source": [
    "search(\"ColBERTv2: Effective and Efficient Retrieval via Lightweight Late Interaction\")"
   ]
  },
  {
   "cell_type": "markdown",
   "metadata": {},
   "source": [
    "We can get the best of both worlds by using pipeline union. It gets a bit complicated, but the union allows us to retrieve the best candidates from the first model, then add the candidates from the second model without duplicates (etc, no matter how many models are in the union). Our first retriever and ranker (Flash + Encoder) has low recall and high precision. The second retriever has lower precision but higher recall. We can mix things up and offer Flash and Ranker candidates first, then TfIdf and Ranker candidates seconds."
   ]
  },
  {
   "cell_type": "code",
   "execution_count": 19,
   "metadata": {},
   "outputs": [
    {
     "data": {
      "text/plain": [
       "Union Pipeline\n",
       "-----\n",
       "Flash retriever\n",
       " \t key: uri\n",
       " \t on: prefLabel, altLabel\n",
       " \t documents: 605\n",
       "Encoder ranker\n",
       "\t key: uri\n",
       "\t on: prefLabel_text, altLabel_text\n",
       "\t k: 10\n",
       "\t similarity: cosine\n",
       "\t embeddings stored at: semanlink.pkl\n",
       "TfIdf retriever\n",
       " \t key: uri\n",
       " \t on: prefLabel_text, altLabel_text\n",
       " \t documents: 433\n",
       "Encoder ranker\n",
       "\t key: uri\n",
       "\t on: prefLabel_text, altLabel_text\n",
       "\t k: 10\n",
       "\t similarity: cosine\n",
       "\t embeddings stored at: semanlink.pkl\n",
       "-----"
      ]
     },
     "execution_count": 19,
     "metadata": {},
     "output_type": "execute_result"
    }
   ],
   "source": [
    "precision = retrieve.Flash(\n",
    "    key = \"uri\",\n",
    "    on = [\"prefLabel\", \"altLabel\"], \n",
    "    k = 30,\n",
    ") + ranker\n",
    "\n",
    "recall = retrieve.TfIdf(\n",
    "    key = \"uri\",\n",
    "    on = [\"prefLabel_text\", \"altLabel_text\"], \n",
    "    documents = documents,\n",
    "    tfidf = TfidfVectorizer(lowercase=True, min_df=1, max_df=0.9, ngram_range=(3, 7), analyzer=\"char\"), \n",
    "    k = 30,\n",
    ") + ranker\n",
    "\n",
    "search = precision | recall\n",
    "\n",
    "search.add(documents)"
   ]
  },
  {
   "cell_type": "code",
   "execution_count": 20,
   "metadata": {},
   "outputs": [
    {
     "data": {
      "text/plain": [
       "{'Precision@1': '69.11%',\n",
       " 'Precision@2': '49.84%',\n",
       " 'Precision@3': '39.07%',\n",
       " 'Precision@4': '31.13%',\n",
       " 'Precision@5': '25.92%',\n",
       " 'Recall@1': '18.74%',\n",
       " 'Recall@2': '25.89%',\n",
       " 'Recall@3': '30.10%',\n",
       " 'Recall@4': '31.58%',\n",
       " 'Recall@5': '32.57%',\n",
       " 'F1@1': '29.49%',\n",
       " 'F1@2': '34.08%',\n",
       " 'F1@3': '34.00%',\n",
       " 'F1@4': '31.35%',\n",
       " 'F1@5': '28.87%',\n",
       " 'R-Precision': '31.96%',\n",
       " 'Precision': '13.97%'}"
      ]
     },
     "execution_count": 20,
     "metadata": {},
     "output_type": "execute_result"
    }
   ],
   "source": [
    "eval.eval(search = search, query_answers = query_answers, hits_k=range(6))"
   ]
  },
  {
   "cell_type": "markdown",
   "metadata": {},
   "source": [
    "We did improves F1 and recall scores using union of pipelines."
   ]
  },
  {
   "cell_type": "markdown",
   "metadata": {},
   "source": [
    "Here are our tags for BERT's article with best of both worlds"
   ]
  },
  {
   "cell_type": "code",
   "execution_count": 21,
   "metadata": {},
   "outputs": [
    {
     "data": {
      "text/plain": [
       "[{'uri': 'http://www.semanlink.net/tag/retrieval_augmented_lm'},\n",
       " {'uri': 'http://www.semanlink.net/tag/neural_models_for_information_retrieval'},\n",
       " {'uri': 'http://www.semanlink.net/tag/embeddings_in_ir'},\n",
       " {'uri': 'http://www.semanlink.net/tag/dense_passage_retrieval'},\n",
       " {'uri': 'http://www.semanlink.net/tag/information_retrieval'},\n",
       " {'uri': 'http://www.semanlink.net/tag/entity_discovery_and_linking'},\n",
       " {'uri': 'http://www.semanlink.net/tag/ranking_information_retrieval'},\n",
       " {'uri': 'http://www.semanlink.net/tag/retrieval_based_nlp'},\n",
       " {'uri': 'http://www.semanlink.net/tag/active_learning'},\n",
       " {'uri': 'http://www.semanlink.net/tag/cognitive_search'}]"
      ]
     },
     "execution_count": 21,
     "metadata": {},
     "output_type": "execute_result"
    }
   ],
   "source": [
    "search(\"ColBERTv2: Effective and Efficient Retrieval via Lightweight Late Interaction\")"
   ]
  },
  {
   "cell_type": "code",
   "execution_count": null,
   "metadata": {},
   "outputs": [],
   "source": []
  },
  {
   "cell_type": "markdown",
   "metadata": {},
   "source": [
    "Another example of tagging:"
   ]
  },
  {
   "cell_type": "code",
   "execution_count": 22,
   "metadata": {},
   "outputs": [
    {
     "data": {
      "text/plain": [
       "[{'uri': 'http://www.semanlink.net/tag/knowledge_base'},\n",
       " {'uri': 'http://www.semanlink.net/tag/knowledge_distillation'},\n",
       " {'uri': 'http://www.semanlink.net/tag/embeddings'},\n",
       " {'uri': 'http://www.semanlink.net/tag/knowledge_graph_embeddings'},\n",
       " {'uri': 'http://www.semanlink.net/tag/knowledge_driven_embeddings'},\n",
       " {'uri': 'http://www.semanlink.net/tag/hierarchy_aware_knowledge_graph_embeddings'},\n",
       " {'uri': 'http://www.semanlink.net/tag/text_kg_and_embeddings'},\n",
       " {'uri': 'http://www.semanlink.net/tag/text_aware_kg_embedding'},\n",
       " {'uri': 'http://www.semanlink.net/tag/knowledge_graph_completion'},\n",
       " {'uri': 'http://www.semanlink.net/tag/knowledge_graph_deep_learning'},\n",
       " {'uri': 'http://www.semanlink.net/tag/combining_knowledge_graphs'},\n",
       " {'uri': 'http://www.semanlink.net/tag/multiple_knowledge_bases'}]"
      ]
     },
     "execution_count": 22,
     "metadata": {},
     "output_type": "execute_result"
    }
   ],
   "source": [
    "search(\"Knowledge Base Embedding By Cooperative Knowledge Distillation\")"
   ]
  },
  {
   "cell_type": "markdown",
   "metadata": {},
   "source": [
    "### CKB "
   ]
  },
  {
   "cell_type": "code",
   "execution_count": 179,
   "metadata": {},
   "outputs": [],
   "source": [
    "import torch\n",
    "from transformers import AutoTokenizer\n",
    "\n",
    "tokenizer = AutoTokenizer.from_pretrained('sentence-transformers/all-mpnet-base-v2')\n",
    "model = torch.load(\"mpnet-base-v2-semanlink\")\n",
    "\n",
    "tokenizer.save_pretrained(\"semanlink_model\")\n",
    "model.model.save_pretrained(\"semanlink_model\")"
   ]
  },
  {
   "cell_type": "code",
   "execution_count": 183,
   "metadata": {},
   "outputs": [
    {
     "name": "stderr",
     "output_type": "stream",
     "text": [
      "WARNING -  No sentence-transformers model found with name semanlink_model. Creating a new one with MEAN pooling.\n"
     ]
    },
    {
     "data": {
      "text/plain": [
       "Encoder retriever\n",
       " \t key: uri\n",
       " \t on: prefLabel_text, altLabel_text\n",
       " \t documents: 433"
      ]
     },
     "execution_count": 183,
     "metadata": {},
     "output_type": "execute_result"
    }
   ],
   "source": [
    "retriever = retrieve.Encoder(\n",
    "    encoder = SentenceTransformer(\"semanlink_model\").encode,\n",
    "    key = \"uri\",\n",
    "    on = [\"prefLabel_text\", \"altLabel_text\"],\n",
    "    k = 30,\n",
    "    path = \"test.pkl\",\n",
    ")\n",
    "\n",
    "retriever.add(documents)\n",
    "retriever.add([q for q, _ in query_answers])"
   ]
  },
  {
   "cell_type": "code",
   "execution_count": 184,
   "metadata": {},
   "outputs": [
    {
     "data": {
      "text/plain": [
       "{'Precision@1': '35.67%',\n",
       " 'Precision@2': '25.00%',\n",
       " 'Precision@3': '19.96%',\n",
       " 'Precision@4': '17.12%',\n",
       " 'Precision@5': '14.71%',\n",
       " 'Recall@1': '9.84%',\n",
       " 'Recall@2': '13.41%',\n",
       " 'Recall@3': '16.00%',\n",
       " 'Recall@4': '18.08%',\n",
       " 'Recall@5': '19.51%',\n",
       " 'F1@1': '15.42%',\n",
       " 'F1@2': '17.45%',\n",
       " 'F1@3': '17.76%',\n",
       " 'F1@4': '17.59%',\n",
       " 'F1@5': '16.78%',\n",
       " 'R-Precision': '17.68%',\n",
       " 'Precision': '4.59%'}"
      ]
     },
     "execution_count": 184,
     "metadata": {},
     "output_type": "execute_result"
    }
   ],
   "source": [
    "eval.eval(search = retriever, query_answers = query_answers, hits_k=range(6))"
   ]
  },
  {
   "cell_type": "code",
   "execution_count": 178,
   "metadata": {},
   "outputs": [
    {
     "data": {
      "text/plain": [
       "{'Precision@1': '35.67%',\n",
       " 'Precision@2': '25.00%',\n",
       " 'Precision@3': '19.96%',\n",
       " 'Precision@4': '17.12%',\n",
       " 'Precision@5': '14.71%',\n",
       " 'Recall@1': '9.84%',\n",
       " 'Recall@2': '13.41%',\n",
       " 'Recall@3': '16.00%',\n",
       " 'Recall@4': '18.08%',\n",
       " 'Recall@5': '19.51%',\n",
       " 'F1@1': '15.42%',\n",
       " 'F1@2': '17.45%',\n",
       " 'F1@3': '17.76%',\n",
       " 'F1@4': '17.59%',\n",
       " 'F1@5': '16.78%',\n",
       " 'R-Precision': '17.68%',\n",
       " 'Precision': '4.59%'}"
      ]
     },
     "execution_count": 178,
     "metadata": {},
     "output_type": "execute_result"
    }
   ],
   "source": [
    "eval.eval(search = retriever, query_answers = query_answers, hits_k=range(6))"
   ]
  },
  {
   "cell_type": "code",
   "execution_count": 80,
   "metadata": {},
   "outputs": [
    {
     "data": {
      "text/plain": [
       "[{'uri': 'http://www.semanlink.net/tag/max_halford',\n",
       "  'similarity': 12.090814707875586},\n",
       " {'uri': 'http://www.semanlink.net/tag/cold_start_problem',\n",
       "  'similarity': 10.307108815484117},\n",
       " {'uri': 'http://www.semanlink.net/tag/lime', 'similarity': 9.84508999915719},\n",
       " {'uri': 'http://www.semanlink.net/tag/ernie',\n",
       "  'similarity': 9.762842843646684},\n",
       " {'uri': 'http://www.semanlink.net/tag/nlp_long_documents',\n",
       "  'similarity': 9.419577852318142},\n",
       " {'uri': 'http://www.semanlink.net/tag/good', 'similarity': 9.383351128118539},\n",
       " {'uri': 'http://www.semanlink.net/tag/knowbert',\n",
       "  'similarity': 9.202494437922873},\n",
       " {'uri': 'http://www.semanlink.net/tag/oov', 'similarity': 9.11512814978782},\n",
       " {'uri': 'http://www.semanlink.net/tag/surprises_me',\n",
       "  'similarity': 9.049567481741605},\n",
       " {'uri': 'http://www.semanlink.net/tag/starspace',\n",
       "  'similarity': 8.966195161873559},\n",
       " {'uri': 'http://www.semanlink.net/tag/xlnet',\n",
       "  'similarity': 8.860616356016111},\n",
       " {'uri': 'http://www.semanlink.net/tag/zero_shot',\n",
       "  'similarity': 8.813453358201237},\n",
       " {'uri': 'http://www.semanlink.net/tag/microsoft_research',\n",
       "  'similarity': 8.69944515630326},\n",
       " {'uri': 'http://www.semanlink.net/tag/rules',\n",
       "  'similarity': 8.571782710634913},\n",
       " {'uri': 'http://www.semanlink.net/tag/axel_polleres',\n",
       "  'similarity': 8.50518915938197},\n",
       " {'uri': 'http://www.semanlink.net/tag/visually_rich_documents',\n",
       "  'similarity': 8.330278349710532},\n",
       " {'uri': 'http://www.semanlink.net/tag/rare_events',\n",
       "  'similarity': 8.231571733670599},\n",
       " {'uri': 'http://www.semanlink.net/tag/critical_evaluation',\n",
       "  'similarity': 8.202979696334266},\n",
       " {'uri': 'http://www.semanlink.net/tag/jeremy_howard',\n",
       "  'similarity': 8.187786668127503},\n",
       " {'uri': 'http://www.semanlink.net/tag/elmo', 'similarity': 8.106011172255835},\n",
       " {'uri': 'http://www.semanlink.net/tag/rigolo',\n",
       "  'similarity': 8.077705690533655},\n",
       " {'uri': 'http://www.semanlink.net/tag/ludovic_denoyer',\n",
       "  'similarity': 8.066813725331102},\n",
       " {'uri': 'http://www.semanlink.net/tag/reformer',\n",
       "  'similarity': 8.034038754866925},\n",
       " {'uri': 'http://www.semanlink.net/tag/nils_reimers',\n",
       "  'similarity': 8.025207542603022},\n",
       " {'uri': 'http://www.semanlink.net/tag/triplet_loss',\n",
       "  'similarity': 7.963461676067096},\n",
       " {'uri': 'http://www.semanlink.net/tag/wikipedia',\n",
       "  'similarity': 7.892387921137351},\n",
       " {'uri': 'http://www.semanlink.net/tag/introduction',\n",
       "  'similarity': 7.834691400629775},\n",
       " {'uri': 'http://www.semanlink.net/tag/knowledge',\n",
       "  'similarity': 7.813072652560364},\n",
       " {'uri': 'http://www.semanlink.net/tag/global_workspace_theory',\n",
       "  'similarity': 7.763651520792154},\n",
       " {'uri': 'http://www.semanlink.net/tag/baidu',\n",
       "  'similarity': 7.751935706475396}]"
      ]
     },
     "execution_count": 80,
     "metadata": {},
     "output_type": "execute_result"
    }
   ],
   "source": [
    "retriever(\"max\")"
   ]
  },
  {
   "cell_type": "markdown",
   "metadata": {},
   "source": [
    "#### Sentence BERT vanilla"
   ]
  },
  {
   "cell_type": "code",
   "execution_count": 62,
   "metadata": {},
   "outputs": [
    {
     "data": {
      "text/plain": [
       "Encoder retriever\n",
       " \t key: uri\n",
       " \t on: prefLabel_text, altLabel_text\n",
       " \t documents: 433"
      ]
     },
     "execution_count": 62,
     "metadata": {},
     "output_type": "execute_result"
    }
   ],
   "source": [
    "retriever = retrieve.Encoder(\n",
    "    key = \"uri\",\n",
    "    on = [\"prefLabel_text\", \"altLabel_text\"],\n",
    "    encoder = SentenceTransformer(\"sentence-transformers/all-mpnet-base-v2\").encode,\n",
    "    k = 10,\n",
    "    path = \"semanlink.pkl\"\n",
    ")\n",
    "\n",
    "retriever.add(documents)\n",
    "retriever.add([q for q, _ in query_answers])"
   ]
  },
  {
   "cell_type": "code",
   "execution_count": 63,
   "metadata": {},
   "outputs": [
    {
     "data": {
      "text/plain": [
       "{'Precision@1': '61.46%',\n",
       " 'Precision@2': '41.40%',\n",
       " 'Precision@3': '31.32%',\n",
       " 'Precision@4': '25.56%',\n",
       " 'Precision@5': '21.85%',\n",
       " 'Recall@1': '16.71%',\n",
       " 'Recall@2': '21.94%',\n",
       " 'Recall@3': '24.54%',\n",
       " 'Recall@4': '26.45%',\n",
       " 'Recall@5': '27.88%',\n",
       " 'F1@1': '26.28%',\n",
       " 'F1@2': '28.68%',\n",
       " 'F1@3': '27.52%',\n",
       " 'F1@4': '26.00%',\n",
       " 'F1@5': '24.50%',\n",
       " 'R-Precision': '26.78%',\n",
       " 'Precision': '13.25%'}"
      ]
     },
     "execution_count": 63,
     "metadata": {},
     "output_type": "execute_result"
    }
   ],
   "source": [
    "eval.eval(search = retriever, query_answers = query_answers, hits_k=range(6))"
   ]
  },
  {
   "cell_type": "markdown",
   "metadata": {},
   "source": [
    "### Pipeline"
   ]
  },
  {
   "cell_type": "code",
   "execution_count": 44,
   "metadata": {},
   "outputs": [
    {
     "data": {
      "text/plain": [
       "Union Pipeline\n",
       "-----\n",
       "Flash retriever\n",
       " \t key: uri\n",
       " \t on: prefLabel, altLabel\n",
       " \t documents: 605\n",
       "Encoder ranker\n",
       "\t key: uri\n",
       "\t on: prefLabel_text, altLabel_text\n",
       "\t k: 10\n",
       "\t similarity: cosine\n",
       "\t embeddings stored at: semanlink_custom.pkl\n",
       "TfIdf retriever\n",
       " \t key: uri\n",
       " \t on: prefLabel_text, altLabel_text\n",
       " \t documents: 433\n",
       "Encoder ranker\n",
       "\t key: uri\n",
       "\t on: prefLabel_text, altLabel_text\n",
       "\t k: 10\n",
       "\t similarity: cosine\n",
       "\t embeddings stored at: semanlink_custom.pkl\n",
       "-----"
      ]
     },
     "execution_count": 44,
     "metadata": {},
     "output_type": "execute_result"
    }
   ],
   "source": [
    "precision = retrieve.Flash(\n",
    "    key = \"uri\",\n",
    "    on = [\"prefLabel\", \"altLabel\"], \n",
    "    k = 30,\n",
    ") + ranker\n",
    "\n",
    "recall = retrieve.TfIdf(\n",
    "    key = \"uri\",\n",
    "    on = [\"prefLabel_text\", \"altLabel_text\"], \n",
    "    documents = documents,\n",
    "    tfidf = TfidfVectorizer(lowercase=True, min_df=1, max_df=0.9, ngram_range=(3, 7), analyzer=\"char\"), \n",
    "    k = 30,\n",
    ") + ranker\n",
    "\n",
    "search = precision | recall\n",
    "\n",
    "search.add(documents)"
   ]
  },
  {
   "cell_type": "code",
   "execution_count": 45,
   "metadata": {},
   "outputs": [
    {
     "data": {
      "text/plain": [
       "{'Precision@1': '64.65%',\n",
       " 'Precision@2': '46.34%',\n",
       " 'Precision@3': '34.71%',\n",
       " 'Precision@4': '27.31%',\n",
       " 'Precision@5': '22.99%',\n",
       " 'Recall@1': '17.24%',\n",
       " 'Recall@2': '24.35%',\n",
       " 'Recall@3': '27.07%',\n",
       " 'Recall@4': '28.24%',\n",
       " 'Recall@5': '29.42%',\n",
       " 'F1@1': '27.21%',\n",
       " 'F1@2': '31.92%',\n",
       " 'F1@3': '30.42%',\n",
       " 'F1@4': '27.77%',\n",
       " 'F1@5': '25.81%',\n",
       " 'R-Precision': '28.72%',\n",
       " 'Precision': '12.97%'}"
      ]
     },
     "execution_count": 45,
     "metadata": {},
     "output_type": "execute_result"
    }
   ],
   "source": [
    "eval.eval(search = search, query_answers = query_answers, hits_k=range(6))"
   ]
  },
  {
   "cell_type": "code",
   "execution_count": null,
   "metadata": {},
   "outputs": [],
   "source": [
    "retr"
   ]
  }
 ],
 "metadata": {
  "interpreter": {
   "hash": "7b170744ab9cf7446ed3e27cb2734f2273f9ffda6b52a7d603d13471f7231bb1"
  },
  "kernelspec": {
   "display_name": "Python 3 (ipykernel)",
   "language": "python",
   "name": "python3"
  },
  "language_info": {
   "codemirror_mode": {
    "name": "ipython",
    "version": 3
   },
   "file_extension": ".py",
   "mimetype": "text/x-python",
   "name": "python",
   "nbconvert_exporter": "python",
   "pygments_lexer": "ipython3",
   "version": "3.8.5"
  }
 },
 "nbformat": 4,
 "nbformat_minor": 2
}
